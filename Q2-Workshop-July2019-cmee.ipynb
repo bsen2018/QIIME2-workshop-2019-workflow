{
 "cells": [
  {
   "cell_type": "markdown",
   "metadata": {},
   "source": [
    "# This tutorial notebook contains the workflow for high-throughput sequencing data processing and analysis using the QIIME2 platform. \n",
    "### This workkflow was used for teaching purpose during the summer course I offered on QIIME2 at the Centre for Marine Environmental Ecology, School of Environmental Science and Engineering, Tianjin University, China.\n",
    "\n",
    "## Requirements\n",
    "1. Seq Data provided by company (single-end or paired-end). \n",
    "2. Manifest file (.tsv)\n",
    "3. Sample metadata file (.tsv)\n",
    "4. reference database\n",
    "5. Save 1-4 in working directory"
   ]
  },
  {
   "cell_type": "code",
   "execution_count": 5,
   "metadata": {},
   "outputs": [
    {
     "data": {
      "text/plain": [
       "'/'"
      ]
     },
     "execution_count": 5,
     "metadata": {},
     "output_type": "execute_result"
    }
   ],
   "source": [
    "pwd"
   ]
  },
  {
   "cell_type": "code",
   "execution_count": 1,
   "metadata": {},
   "outputs": [
    {
     "name": "stdout",
     "output_type": "stream",
     "text": [
      "/d/Bioinformatics/qiime2/KS-data-Ubuntu/KS-2019/ITS3-ITS4/final-eval-data40419\n"
     ]
    }
   ],
   "source": [
    "cd /d/Bioinformatics/qiime2/KS-data-Ubuntu/KS-2019/ITS3-ITS4/final-eval-data40419/"
   ]
  },
  {
   "cell_type": "code",
   "execution_count": 2,
   "metadata": {
    "scrolled": true,
    "tags": []
   },
   "outputs": [
    {
     "name": "stdout",
     "output_type": "stream",
     "text": [
      "\u001b[0m\u001b[01;32mPCoA-Unifrac.pdf\u001b[0m*       \u001b[01;32mmetadata.txt\u001b[0m*           table-dada2.qza\n",
      "bar.pdf                 ordination.qza          table-taxonomy.biom\n",
      "denoise-stat-dada2.qza  paired-end-demux.qza    table-taxonomy.tsv\n",
      "dna-sequences.fasta     rarefied-otu-table.qza  tabulated-feature.qzv\n",
      "\u001b[34;42mfunguild\u001b[0m/               \u001b[34;42mrarefied-table\u001b[0m/         \u001b[01;32mtabulated-feature.tsv\u001b[0m*\n",
      "\u001b[01;32mlevel-2.csv\u001b[0m*            rep-seqs-dada2.qza      taxonomy.tsv\n",
      "\u001b[01;32mlevel-3.csv\u001b[0m*            rooted_tree.qza         taxonomy8-5.qza\n",
      "\u001b[01;32mlevel-6.csv\u001b[0m*            \u001b[34;42mscratch\u001b[0m/\n"
     ]
    }
   ],
   "source": [
    "ls"
   ]
  },
  {
   "cell_type": "markdown",
   "metadata": {},
   "source": [
    "#Manifest file common for clean and raw data. Rechecking with raw data to see if cut-adapt has been performed. Rename the folder name as Data for running this command "
   ]
  },
  {
   "cell_type": "code",
   "execution_count": null,
   "metadata": {},
   "outputs": [],
   "source": [
    "qiime tools import \\\n",
    "--type 'SampleData[PairedEndSequencesWithQuality]' \\\n",
    "--input-path manifest.csv \\\n",
    "--output-path paired-end-demux.qza \\\n",
    "--input-format PairedEndFastqManifestPhred33"
   ]
  },
  {
   "cell_type": "code",
   "execution_count": 29,
   "metadata": {
    "collapsed": true,
    "jupyter": {
     "outputs_hidden": true
    }
   },
   "outputs": [
    {
     "name": "stdout",
     "output_type": "stream",
     "text": [
      "Usage: qiime demux summarize [OPTIONS]\n",
      "Try \"qiime demux summarize --help\" for help.\n",
      "\n",
      "Error: Invalid value for \"--i-data\": File \"paired-end-demux.qza\" does not exist.\n"
     ]
    }
   ],
   "source": [
    "qiime demux summarize \\\n",
    "--i-data paired-end-demux.qza \\\n",
    "--o-visualization demux.qzv"
   ]
  },
  {
   "cell_type": "code",
   "execution_count": null,
   "metadata": {},
   "outputs": [],
   "source": [
    "qiime tools view demux.qzv"
   ]
  },
  {
   "cell_type": "markdown",
   "metadata": {},
   "source": [
    "#when paired end was used for its express and dada2 denoisepaired the sequences in the output were low. \n",
    "so tried again with single end forward reads only"
   ]
  },
  {
   "cell_type": "code",
   "execution_count": 37,
   "metadata": {
    "scrolled": true
   },
   "outputs": [
    {
     "name": "stdout",
     "output_type": "stream",
     "text": [
      "\u001b[32mImported Manifest-R1.csv as SingleEndFastqManifestPhred33 to single-end-demux.qza\u001b[0m\n"
     ]
    }
   ],
   "source": [
    "qiime dada2 denoise-paired \\\n",
    "--i-demultiplexed-seqs paired-end-demux.qza \\\n",
    "--p-trim-left-f 0 \\\n",
    "--p-trim-left-r 0 \\\n",
    "--p-trunc-len-f 220 \\\n",
    "--p-trunc-len-r 200 \\\n",
    "--o-representative-sequences reps-dada2.qza \\\n",
    "--p-n-threads 3 \\\n",
    "--o-table table-dada2.qza \\\n",
    "--output-dir dada2stat"
   ]
  },
  {
   "cell_type": "code",
   "execution_count": 38,
   "metadata": {
    "scrolled": true
   },
   "outputs": [
    {
     "name": "stdout",
     "output_type": "stream",
     "text": [
      "\u001b[32mSaved Visualization to: single-demux.qzv\u001b[0m\n"
     ]
    }
   ],
   "source": [
    "! qiime feature-table summarize \\\n",
    "--i-table table-dada2.qza \\\n",
    "--m-sample-metadata-file sample-metadata.csv \\\n",
    "--o-visualization table-dada2.qzv"
   ]
  },
  {
   "cell_type": "code",
   "execution_count": null,
   "metadata": {},
   "outputs": [],
   "source": [
    "qiime vsearch cluster-features-de-novo \\\n",
    "--i-sequences reps-seq-dada2.qza \\\n",
    "--i-table table-dada2.qza \\\n",
    "--p-perc-identity 0.97 \\\n",
    "--o-clustered-table otu-table.qza \\\n",
    "--o-clustered-sequences Otu-seqs.qza"
   ]
  },
  {
   "cell_type": "code",
   "execution_count": null,
   "metadata": {},
   "outputs": [],
   "source": [
    "qiime tools export --input-path table-dada2.qza --output-path exported"
   ]
  },
  {
   "cell_type": "code",
   "execution_count": null,
   "metadata": {},
   "outputs": [],
   "source": [
    "biom convert --to-tsv -i exported/feature-table.biom -o feature-table.tsv"
   ]
  },
  {
   "cell_type": "code",
   "execution_count": null,
   "metadata": {},
   "outputs": [],
   "source": [
    "qiime tools import \\\n",
    "--type FeatureData[Sequence] \\\n",
    "--input-path sh_refs_qiime_ver8_99_s_02.02.2019.fasta \\\n",
    "--output-path sh_refs_qiime_ver8_99_s_02.02.2019.qza"
   ]
  },
  {
   "cell_type": "code",
   "execution_count": null,
   "metadata": {},
   "outputs": [],
   "source": [
    "qiime tools import \\\n",
    "--type FeatureData[Taxonomy] \\\n",
    "--input-path sh_taxonomy_qiime_ver8_99_s_02.02.2019.txt \\\n",
    "--output-path sh_taxonomy_qiime_ver8_99_s_02.02.2019.qza \\\n",
    "--input-format HeaderlessTSVTaxonomyFormat"
   ]
  },
  {
   "cell_type": "code",
   "execution_count": null,
   "metadata": {},
   "outputs": [],
   "source": [
    "qiime feature-classifier classify-consensus-blast \\\n",
    "--i-query reps-dada2.qza \\\n",
    "--i-reference-reads sh_refs_qiime_ver8_99_s_02.02.2019.qza \\\n",
    "--i-reference-taxonomy sh_taxonomy_qiime_ver8_99_s_02.02.2019.qza \\\n",
    "--p-perc-identity 0.945 \\\n",
    "--o-classification taxonomy.qza"
   ]
  },
  {
   "cell_type": "code",
   "execution_count": null,
   "metadata": {},
   "outputs": [],
   "source": [
    "qiime taxa barplot \\\n",
    "--i-table table-dada2.qza \\\n",
    "--i-taxonomy taxonomy.qza \\\n",
    "--m-metadata-file sample-metadata.tsv \\\n",
    "--o-visualization taxa-bar-plot.qzv"
   ]
  },
  {
   "cell_type": "code",
   "execution_count": null,
   "metadata": {},
   "outputs": [],
   "source": [
    "qiime phylogeny align-to-tree-mafft-fasttree \\\n",
    "--i-sequences reps-seqs-dada2.qza \\\n",
    "--p-n-threads 3 \\\n",
    "--o-alignment aligned-rep-seqs.qza \\\n",
    "--o-masked-alignment masked-aligned-rep-seqs.qza \\\n",
    "--o-tree unrooted-tree.qza \\\n",
    "--o-rooted-tree rooted-tree.qza"
   ]
  },
  {
   "cell_type": "code",
   "execution_count": null,
   "metadata": {},
   "outputs": [],
   "source": [
    "qiime diversity alpha-rarefaction \\\n",
    "--i-table table-dada2.qza \\\n",
    "--i-phylogeny rooted-tree.qza \\\n",
    "--p-max-depth 500 \\\n",
    "--m-metadata-file sample-metadata.txt \\\n",
    "--o-visualization alpha-rarefaction.qzv"
   ]
  },
  {
   "cell_type": "code",
   "execution_count": null,
   "metadata": {},
   "outputs": [],
   "source": [
    "qiime diversity core-metrics-phylogenetic \\\n",
    "--i-phylogeny rooted-tree.qza \\\n",
    "--i-table table-dada2.qza \\\n",
    "--p-sampling-depth 500 \\\n",
    "--m-metadata-file sample-metadata.txt \\\n",
    "--output-dir core-metrics-results"
   ]
  },
  {
   "cell_type": "code",
   "execution_count": null,
   "metadata": {},
   "outputs": [],
   "source": [
    "qiime metadata tabulate \\\n",
    "--m-input-file core-metrics-results/shannon_vector.qza \\\n",
    "--o-visualization shannon.qzv"
   ]
  },
  {
   "cell_type": "code",
   "execution_count": null,
   "metadata": {},
   "outputs": [],
   "source": [
    "#filter feature-table filter-features\n",
    "! qiime feature-table filter-features \\\n",
    "--i-table table-dada2.qza \\\n",
    "--p-min-frequency 1000 \\\n",
    "--o-filtered-table table-dada2-f.qza"
   ]
  },
  {
   "cell_type": "code",
   "execution_count": null,
   "metadata": {},
   "outputs": [],
   "source": [
    "#filter feature-table filter-seqs\n",
    "qiime feature-table filter-seqs \\\n",
    "--i-data rep-seqs-dada2.qza \\\n",
    "--i-table table-dada2-f.qza \\\n",
    "--o-filtered-data rep-seqs-dada2-f.qza"
   ]
  },
  {
   "cell_type": "code",
   "execution_count": null,
   "metadata": {},
   "outputs": [],
   "source": [
    "qiime taxa collapse \\\n",
    "--i-table table-dada2.qza \\\n",
    "--i-taxonomy taxonomy.qza \\\n",
    "--p-level 3 \\\n",
    "--o-collapsed-table table-collapsed-dada2"
   ]
  },
  {
   "cell_type": "code",
   "execution_count": null,
   "metadata": {},
   "outputs": [],
   "source": [
    "qiime feature-table heatmap \\\n",
    "--i-table table-collapsed-dada2.qza \\\n",
    "--m-metadata-file sample-metadata.txt \\\n",
    "--m-metadata-column Description \\\n",
    "--p-metric braycurtis \\\n",
    "--o-visualization heatmap.qzv"
   ]
  },
  {
   "cell_type": "code",
   "execution_count": null,
   "metadata": {},
   "outputs": [],
   "source": [
    "! qiime feature-table heatmap \\\n",
    "--i-table table-dada2-top.qza \\\n",
    "--m-metadata-file sample-metadata.txt \\\n",
    "--m-metadata-column Description \\\n",
    "--p-metric braycurtis \\\n",
    "--o-visualization heatmap.qzv"
   ]
  },
  {
   "cell_type": "code",
   "execution_count": 36,
   "metadata": {},
   "outputs": [
    {
     "name": "stdout",
     "output_type": "stream",
     "text": [
      "\u001b[32mSaved FeatureTable[Frequency] to: nonitsxdada2/table-dada2.qza\u001b[0m\n",
      "\u001b[32mSaved FeatureData[Sequence] to: nonitsxdada2/reps-dada2.qza\u001b[0m\n",
      "\u001b[32mSaved SampleData[DADA2Stats] to: nonitsxdada2/dada2stat/denoising_stats.qza\u001b[0m\n"
     ]
    }
   ],
   "source": [
    "! qiime dada2 denoise-paired \\\n",
    "--i-demultiplexed-seqs paired-end-demux-clean.qza \\\n",
    "--p-trim-left-f 0 \\\n",
    "--p-trim-left-r 0 \\\n",
    "--p-trunc-len-f 270 \\\n",
    "--p-trunc-len-r 274 \\\n",
    "--o-representative-sequences nonitsxdada2/reps-dada2.qza \\\n",
    "--p-n-threads 3 \\\n",
    "--o-table nonitsxdada2/table-dada2.qza \\\n",
    "--output-dir nonitsxdada2/dada2stat"
   ]
  },
  {
   "cell_type": "code",
   "execution_count": 38,
   "metadata": {},
   "outputs": [
    {
     "name": "stdout",
     "output_type": "stream",
     "text": [
      "\u001b[32mSaved Visualization to: nonitsxdada2/table-nonitsx-dada2.qzv\u001b[0m\n"
     ]
    }
   ],
   "source": [
    "! qiime feature-table summarize \\\n",
    "--i-table nonitsxdada2/table-dada2.qza \\\n",
    "--m-sample-metadata-file sample-metadata.tsv \\\n",
    "--o-visualization nonitsxdada2/table-nonitsx-dada2.qzv"
   ]
  },
  {
   "cell_type": "code",
   "execution_count": 33,
   "metadata": {
    "collapsed": true,
    "jupyter": {
     "outputs_hidden": true
    }
   },
   "outputs": [
    {
     "ename": "ValueError",
     "evalue": "nonitsxdada2/table-nonitsx-dada2.qzv does not exist.",
     "output_type": "error",
     "traceback": [
      "\u001b[0;31m---------------------------------------------------------------------------\u001b[0m",
      "\u001b[0;31mValueError\u001b[0m                                Traceback (most recent call last)",
      "\u001b[0;32m<ipython-input-33-47b1d5ece6e3>\u001b[0m in \u001b[0;36m<module>\u001b[0;34m\u001b[0m\n\u001b[0;32m----> 1\u001b[0;31m \u001b[0mdemux\u001b[0m\u001b[0;34m=\u001b[0m\u001b[0mVisualization\u001b[0m\u001b[0;34m.\u001b[0m\u001b[0mload\u001b[0m\u001b[0;34m(\u001b[0m\u001b[0;34m'nonitsxdada2/table-nonitsx-dada2.qzv'\u001b[0m\u001b[0;34m)\u001b[0m\u001b[0;34m\u001b[0m\u001b[0m\n\u001b[0m\u001b[1;32m      2\u001b[0m \u001b[0mdemux\u001b[0m\u001b[0;34m\u001b[0m\u001b[0m\n",
      "\u001b[0;32m~/miniconda3/envs/qiime2-2018.11/lib/python3.5/site-packages/qiime2/sdk/result.py\u001b[0m in \u001b[0;36mload\u001b[0;34m(cls, filepath)\u001b[0m\n\u001b[1;32m     64\u001b[0m     \u001b[0;32mdef\u001b[0m \u001b[0mload\u001b[0m\u001b[0;34m(\u001b[0m\u001b[0mcls\u001b[0m\u001b[0;34m,\u001b[0m \u001b[0mfilepath\u001b[0m\u001b[0;34m)\u001b[0m\u001b[0;34m:\u001b[0m\u001b[0;34m\u001b[0m\u001b[0m\n\u001b[1;32m     65\u001b[0m         \u001b[0;34m\"\"\"Factory for loading Artifacts and Visualizations.\"\"\"\u001b[0m\u001b[0;34m\u001b[0m\u001b[0m\n\u001b[0;32m---> 66\u001b[0;31m         \u001b[0marchiver\u001b[0m \u001b[0;34m=\u001b[0m \u001b[0marchive\u001b[0m\u001b[0;34m.\u001b[0m\u001b[0mArchiver\u001b[0m\u001b[0;34m.\u001b[0m\u001b[0mload\u001b[0m\u001b[0;34m(\u001b[0m\u001b[0mfilepath\u001b[0m\u001b[0;34m)\u001b[0m\u001b[0;34m\u001b[0m\u001b[0m\n\u001b[0m\u001b[1;32m     67\u001b[0m \u001b[0;34m\u001b[0m\u001b[0m\n\u001b[1;32m     68\u001b[0m         \u001b[0;32mif\u001b[0m \u001b[0mArtifact\u001b[0m\u001b[0;34m.\u001b[0m\u001b[0m_is_valid_type\u001b[0m\u001b[0;34m(\u001b[0m\u001b[0marchiver\u001b[0m\u001b[0;34m.\u001b[0m\u001b[0mtype\u001b[0m\u001b[0;34m)\u001b[0m\u001b[0;34m:\u001b[0m\u001b[0;34m\u001b[0m\u001b[0m\n",
      "\u001b[0;32m~/miniconda3/envs/qiime2-2018.11/lib/python3.5/site-packages/qiime2/core/archive/archiver.py\u001b[0m in \u001b[0;36mload\u001b[0;34m(cls, filepath)\u001b[0m\n\u001b[1;32m    297\u001b[0m     \u001b[0;34m@\u001b[0m\u001b[0mclassmethod\u001b[0m\u001b[0;34m\u001b[0m\u001b[0m\n\u001b[1;32m    298\u001b[0m     \u001b[0;32mdef\u001b[0m \u001b[0mload\u001b[0m\u001b[0;34m(\u001b[0m\u001b[0mcls\u001b[0m\u001b[0;34m,\u001b[0m \u001b[0mfilepath\u001b[0m\u001b[0;34m)\u001b[0m\u001b[0;34m:\u001b[0m\u001b[0;34m\u001b[0m\u001b[0m\n\u001b[0;32m--> 299\u001b[0;31m         \u001b[0marchive\u001b[0m \u001b[0;34m=\u001b[0m \u001b[0mcls\u001b[0m\u001b[0;34m.\u001b[0m\u001b[0mget_archive\u001b[0m\u001b[0;34m(\u001b[0m\u001b[0mfilepath\u001b[0m\u001b[0;34m)\u001b[0m\u001b[0;34m\u001b[0m\u001b[0m\n\u001b[0m\u001b[1;32m    300\u001b[0m         \u001b[0mFormat\u001b[0m \u001b[0;34m=\u001b[0m \u001b[0mcls\u001b[0m\u001b[0;34m.\u001b[0m\u001b[0mget_format_class\u001b[0m\u001b[0;34m(\u001b[0m\u001b[0marchive\u001b[0m\u001b[0;34m.\u001b[0m\u001b[0mversion\u001b[0m\u001b[0;34m)\u001b[0m\u001b[0;34m\u001b[0m\u001b[0m\n\u001b[1;32m    301\u001b[0m         \u001b[0;32mif\u001b[0m \u001b[0mFormat\u001b[0m \u001b[0;32mis\u001b[0m \u001b[0;32mNone\u001b[0m\u001b[0;34m:\u001b[0m\u001b[0;34m\u001b[0m\u001b[0m\n",
      "\u001b[0;32m~/miniconda3/envs/qiime2-2018.11/lib/python3.5/site-packages/qiime2/core/archive/archiver.py\u001b[0m in \u001b[0;36mget_archive\u001b[0;34m(cls, filepath)\u001b[0m\n\u001b[1;32m    257\u001b[0m         \u001b[0mfilepath\u001b[0m \u001b[0;34m=\u001b[0m \u001b[0mpathlib\u001b[0m\u001b[0;34m.\u001b[0m\u001b[0mPath\u001b[0m\u001b[0;34m(\u001b[0m\u001b[0mfilepath\u001b[0m\u001b[0;34m)\u001b[0m\u001b[0;34m\u001b[0m\u001b[0m\n\u001b[1;32m    258\u001b[0m         \u001b[0;32mif\u001b[0m \u001b[0;32mnot\u001b[0m \u001b[0mfilepath\u001b[0m\u001b[0;34m.\u001b[0m\u001b[0mexists\u001b[0m\u001b[0;34m(\u001b[0m\u001b[0;34m)\u001b[0m\u001b[0;34m:\u001b[0m\u001b[0;34m\u001b[0m\u001b[0m\n\u001b[0;32m--> 259\u001b[0;31m             \u001b[0;32mraise\u001b[0m \u001b[0mValueError\u001b[0m\u001b[0;34m(\u001b[0m\u001b[0;34m\"%s does not exist.\"\u001b[0m \u001b[0;34m%\u001b[0m \u001b[0mfilepath\u001b[0m\u001b[0;34m)\u001b[0m\u001b[0;34m\u001b[0m\u001b[0m\n\u001b[0m\u001b[1;32m    260\u001b[0m \u001b[0;34m\u001b[0m\u001b[0m\n\u001b[1;32m    261\u001b[0m         \u001b[0;32mif\u001b[0m \u001b[0m_ZipArchive\u001b[0m\u001b[0;34m.\u001b[0m\u001b[0mis_archive_type\u001b[0m\u001b[0;34m(\u001b[0m\u001b[0mfilepath\u001b[0m\u001b[0;34m)\u001b[0m\u001b[0;34m:\u001b[0m\u001b[0;34m\u001b[0m\u001b[0m\n",
      "\u001b[0;31mValueError\u001b[0m: nonitsxdada2/table-nonitsx-dada2.qzv does not exist."
     ]
    }
   ],
   "source": [
    "demux=Visualization.load('nonitsxdada2/table-nonitsx-dada2.qzv')\n",
    "demux"
   ]
  },
  {
   "cell_type": "markdown",
   "metadata": {},
   "source": [
    "#to check effect of dada2 with forward single reads only without itsx trimming"
   ]
  },
  {
   "cell_type": "code",
   "execution_count": 42,
   "metadata": {
    "scrolled": true
   },
   "outputs": [
    {
     "name": "stdout",
     "output_type": "stream",
     "text": [
      "\u001b[32mSaved FeatureTable[Frequency] to: nonitsxdada2/Single/table-single-dada2.qza\u001b[0m\n",
      "\u001b[32mSaved FeatureData[Sequence] to: nonitsxdada2/Single/single-dada2.qza\u001b[0m\n",
      "\u001b[32mSaved SampleData[DADA2Stats] to: nonitsxdada2/Single/dada2statsingle/denoising_stats.qza\u001b[0m\n"
     ]
    }
   ],
   "source": [
    "! qiime dada2 denoise-single \\\n",
    "--i-demultiplexed-seqs single-end-demux.qza \\\n",
    "--p-trim-left 0 \\\n",
    "--p-trunc-len 270 \\\n",
    "--o-representative-sequences nonitsxdada2/Single/reps-single-dada2.qza \\\n",
    "--p-n-threads 3 \\\n",
    "--o-table nonitsxdada2/Single/table-single-dada2.qza\\\n",
    "--output-dir nonitsxdada2/Single/dada2statsingle"
   ]
  },
  {
   "cell_type": "code",
   "execution_count": 44,
   "metadata": {},
   "outputs": [
    {
     "name": "stdout",
     "output_type": "stream",
     "text": [
      "\u001b[32mSaved Visualization to: nonitsxdada2/Single/table-single-dada2.qzv\u001b[0m\n"
     ]
    }
   ],
   "source": [
    "! qiime feature-table summarize \\\n",
    "--i-table nonitsxdada2/Single/table-single-dada2.qza \\\n",
    "--m-sample-metadata-file sample-metadata.tsv \\\n",
    "--o-visualization nonitsxdada2/Single/table-single-dada2.qzv"
   ]
  },
  {
   "cell_type": "code",
   "execution_count": 34,
   "metadata": {
    "collapsed": true,
    "jupyter": {
     "outputs_hidden": true
    }
   },
   "outputs": [
    {
     "data": {
      "text/html": [
       "<div><img onload=\"(function(div, url){\n",
       "if (typeof require !== 'undefined') {\n",
       "    var baseURL = require.toUrl('').split('/').slice(0, -2).join('/');\n",
       "} else {\n",
       "    var baseURL = JSON.parse(\n",
       "        document.getElementById('jupyter-config-data').innerHTML\n",
       "    ).baseUrl.slice(0, -1);\n",
       "}\n",
       "url = baseURL + url;\n",
       "fetch(url).then(function(res) {\n",
       "    if (res.status === 404) {\n",
       "        div.innerHTML = 'Install QIIME 2 Jupyter extension with:<br />' +\n",
       "                        '<code>jupyter serverextension enable --py qiime2' +\n",
       "                        ' --sys-prefix</code><br />then restart your server.' +\n",
       "                        '<br /><br />(Interactive output not available on ' +\n",
       "                        'static notebook viewer services like nbviewer.)';\n",
       "    } else if (res.status === 409) {\n",
       "        div.innerHTML = 'Visualization no longer in scope. Re-run this cell' +\n",
       "                        ' to see the visualization.';\n",
       "    } else if (res.ok) {\n",
       "        url = res.url;\n",
       "        div.innerHTML = '<iframe src=\\'' + url + '\\' style=\\'' +\n",
       "                        'width: 100%; height: 700px; border: 0;\\'>' +\n",
       "                        '</iframe><hr />Open in a: <a href=\\'' + url + '\\'' +\n",
       "                        ' target=\\'_blank\\'>new window</a>'\n",
       "    } else {\n",
       "        div.innerHTML = 'Something has gone wrong. Check notebook server for' +\n",
       "                        ' errors.';\n",
       "    }\n",
       "});\n",
       "})(this.parentElement, '/qiime2/redirect?location=/tmp/qiime2-archive-15zmx0r8')\" src=\"data:image/gif;base64,R0lGODlhAQABAIAAAP///wAAACH5BAEAAAAALAAAAAABAAEAAAICRAEAOw==\" /></div>"
      ],
      "text/plain": [
       "<visualization: Visualization uuid: 74809858-46da-45d5-a308-e4cadf54b340>"
      ]
     },
     "execution_count": 34,
     "metadata": {},
     "output_type": "execute_result"
    }
   ],
   "source": [
    "demux=Visualization.load('nonitsxdada2/Single/table-single-dada2.qzv')\n",
    "demux"
   ]
  },
  {
   "cell_type": "markdown",
   "metadata": {},
   "source": [
    "#the raw data had longer length than clean data so primers adapters and barcodes have been removed by company. \n",
    "#coninue further with clean data file"
   ]
  },
  {
   "cell_type": "code",
   "execution_count": 16,
   "metadata": {
    "scrolled": true
   },
   "outputs": [
    {
     "name": "stdout",
     "output_type": "stream",
     "text": [
      "\u001b[32mSaved SampleData[PairedEndSequencesWithQuality] to: trimmed.qza\u001b[0m\n"
     ]
    }
   ],
   "source": [
    "! qiime itsxpress trim-pair-output-unmerged \\\n",
    "--i-per-sample-sequences paired-end-demux-clean.qza \\\n",
    "--p-region ITS1 \\\n",
    "--p-taxa F \\\n",
    "--o-trimmed trimmed.qza"
   ]
  },
  {
   "cell_type": "markdown",
   "metadata": {},
   "source": [
    "#itsxpress trim using SequencesWithQuality forward reads only"
   ]
  },
  {
   "cell_type": "code",
   "execution_count": 43,
   "metadata": {},
   "outputs": [
    {
     "name": "stdout",
     "output_type": "stream",
     "text": [
      "\u001b[32mSaved SampleData[SequencesWithQuality] to: single-trimmed.qza\u001b[0m\n"
     ]
    }
   ],
   "source": [
    "! qiime itsxpress trim-single \\\n",
    "--i-per-sample-sequences single-end-demux.qza \\\n",
    "--p-region ITS1 \\\n",
    "--p-taxa F \\\n",
    "--p-threads 3 \\\n",
    "--o-trimmed single-trimmed.qza"
   ]
  },
  {
   "cell_type": "code",
   "execution_count": 23,
   "metadata": {},
   "outputs": [
    {
     "name": "stdout",
     "output_type": "stream",
     "text": [
      "\u001b[32mSaved FeatureTable[Frequency] to: table-trimmed-dada2.qza\u001b[0m\n",
      "\u001b[32mSaved FeatureData[Sequence] to: trimmed-dada2.qza\u001b[0m\n",
      "\u001b[32mSaved SampleData[DADA2Stats] to: dada2stat/denoising_stats.qza\u001b[0m\n"
     ]
    }
   ],
   "source": [
    "! qiime dada2 denoise-paired \\\n",
    "--i-demultiplexed-seqs trimmed.qza \\\n",
    "--p-trim-left-f 0 \\\n",
    "--p-trim-left-r 0 \\\n",
    "--p-trunc-len-f 0 \\\n",
    "--p-trunc-len-r 0 \\\n",
    "--o-representative-sequences trimmed-dada2.qza \\\n",
    "--p-n-threads 3 \\\n",
    "--o-table table-trimmed-dada2.qza \\\n",
    "--output-dir dada2stat"
   ]
  },
  {
   "cell_type": "code",
   "execution_count": 26,
   "metadata": {
    "collapsed": true,
    "jupyter": {
     "outputs_hidden": true
    }
   },
   "outputs": [
    {
     "data": {
      "text/html": [
       "<div><img onload=\"(function(div, url){\n",
       "if (typeof require !== 'undefined') {\n",
       "    var baseURL = require.toUrl('').split('/').slice(0, -2).join('/');\n",
       "} else {\n",
       "    var baseURL = JSON.parse(\n",
       "        document.getElementById('jupyter-config-data').innerHTML\n",
       "    ).baseUrl.slice(0, -1);\n",
       "}\n",
       "url = baseURL + url;\n",
       "fetch(url).then(function(res) {\n",
       "    if (res.status === 404) {\n",
       "        div.innerHTML = 'Install QIIME 2 Jupyter extension with:<br />' +\n",
       "                        '<code>jupyter serverextension enable --py qiime2' +\n",
       "                        ' --sys-prefix</code><br />then restart your server.' +\n",
       "                        '<br /><br />(Interactive output not available on ' +\n",
       "                        'static notebook viewer services like nbviewer.)';\n",
       "    } else if (res.status === 409) {\n",
       "        div.innerHTML = 'Visualization no longer in scope. Re-run this cell' +\n",
       "                        ' to see the visualization.';\n",
       "    } else if (res.ok) {\n",
       "        url = res.url;\n",
       "        div.innerHTML = '<iframe src=\\'' + url + '\\' style=\\'' +\n",
       "                        'width: 100%; height: 700px; border: 0;\\'>' +\n",
       "                        '</iframe><hr />Open in a: <a href=\\'' + url + '\\'' +\n",
       "                        ' target=\\'_blank\\'>new window</a>'\n",
       "    } else {\n",
       "        div.innerHTML = 'Something has gone wrong. Check notebook server for' +\n",
       "                        ' errors.';\n",
       "    }\n",
       "});\n",
       "})(this.parentElement, '/qiime2/redirect?location=/tmp/qiime2-archive-ljcr63ub')\" src=\"data:image/gif;base64,R0lGODlhAQABAIAAAP///wAAACH5BAEAAAAALAAAAAABAAEAAAICRAEAOw==\" /></div>"
      ],
      "text/plain": [
       "<visualization: Visualization uuid: f7337bd6-fafd-4498-9cc5-c6be713ac47b>"
      ]
     },
     "execution_count": 26,
     "metadata": {},
     "output_type": "execute_result"
    }
   ],
   "source": [
    "demux=Visualization.load('table-single-trimmed-dada2.qzv')\n",
    "demux"
   ]
  },
  {
   "cell_type": "markdown",
   "metadata": {},
   "source": [
    "#dada2 denoise with Single end reads trimmed with itsxpress"
   ]
  },
  {
   "cell_type": "code",
   "execution_count": 45,
   "metadata": {},
   "outputs": [
    {
     "name": "stdout",
     "output_type": "stream",
     "text": [
      "\u001b[32mSaved FeatureTable[Frequency] to: table-single-trimmed-dada2.qza\u001b[0m\n",
      "\u001b[32mSaved FeatureData[Sequence] to: single-trimmed-dada2.qza\u001b[0m\n",
      "\u001b[32mSaved SampleData[DADA2Stats] to: dada2statsingle/denoising_stats.qza\u001b[0m\n"
     ]
    }
   ],
   "source": [
    "! qiime dada2 denoise-single \\\n",
    "--i-demultiplexed-seqs single-trimmed.qza \\\n",
    "--p-trim-left 0 \\\n",
    "--p-trunc-len 0 \\\n",
    "--o-representative-sequences single-trimmed-dada2.qza \\\n",
    "--p-n-threads 3 \\\n",
    "--o-table table-single-trimmed-dada2.qza \\single-trimmed-dada2\n",
    "--output-dir dada2statsingle"
   ]
  },
  {
   "cell_type": "markdown",
   "metadata": {},
   "source": [
    "#tabulate and summarize OTU table after denoising using dada2 for pairedend reads next single end reads"
   ]
  },
  {
   "cell_type": "code",
   "execution_count": 28,
   "metadata": {},
   "outputs": [
    {
     "name": "stdout",
     "output_type": "stream",
     "text": [
      "\u001b[32mSaved Visualization to: table-trimmed-dada2.qzv\u001b[0m\n"
     ]
    }
   ],
   "source": [
    "! qiime feature-table summarize \\\n",
    "--i-table table-trimmed-dada2.qza \\\n",
    "--m-sample-metadata-file sample-metadata.tsv \\\n",
    "--o-visualization table-trimmed-dada2.qzv"
   ]
  },
  {
   "cell_type": "code",
   "execution_count": 46,
   "metadata": {},
   "outputs": [
    {
     "name": "stdout",
     "output_type": "stream",
     "text": [
      "\u001b[32mSaved Visualization to: table-single-trimmed-dada2.qzv\u001b[0m\n"
     ]
    }
   ],
   "source": [
    "! qiime feature-table summarize \\\n",
    "--i-table table-single-trimmed-dada2.qza \\\n",
    "--m-sample-metadata-file sample-metadata.tsv \\\n",
    "--o-visualization table-single-trimmed-dada2.qzv"
   ]
  },
  {
   "cell_type": "markdown",
   "metadata": {},
   "source": [
    "#taxonomic assignment with itsxpress trimmed UNITE database. \n",
    "\n",
    "#Import sequence file from UNITE database and taxonomy file from UNITE database and convert to qza files"
   ]
  },
  {
   "cell_type": "code",
   "execution_count": null,
   "metadata": {},
   "outputs": [],
   "source": [
    "! qiime tools import \\\n",
    "--type FeatureData[Sequence] \\\n",
    "--input-path sh_refs_qiime_ver7_99_01.12.2017.fasta \\\n",
    "--output-path sh_refs_qiime_ver7_99_01.12.2017.qza"
   ]
  },
  {
   "cell_type": "code",
   "execution_count": null,
   "metadata": {},
   "outputs": [],
   "source": [
    "! qiime tools import \\\n",
    "--type FeatureData[Taxonomy] \\\n",
    "--input-path sh_taxonomy_qiime_ver7_99_01.12.2017.txt \\\n",
    "--output-path sh_taxonomy_qiime_ver7_99_01.12.2017.qza \\\n",
    "--input-format HeaderlessTSVTaxonomyFormat"
   ]
  },
  {
   "cell_type": "markdown",
   "metadata": {},
   "source": [
    "#train the classifier with the seq and taxonomy files imported above"
   ]
  },
  {
   "cell_type": "code",
   "execution_count": null,
   "metadata": {},
   "outputs": [],
   "source": [
    "! qiime feature-classifier fit-classifier-naive-bayes \\\n",
    "--i-reference-reads sh_refs_qiime_ver7_99_01.12.2017.qza \\\n",
    "--i-reference-taxonomy sh_taxonomy_qiime_ver7_99_01.12.2017.qza \\\n",
    "--o-classifier sh_classifier_qiime_ver7_99_01.12.2017.qza"
   ]
  },
  {
   "cell_type": "code",
   "execution_count": 56,
   "metadata": {},
   "outputs": [
    {
     "name": "stdout",
     "output_type": "stream",
     "text": [
      "\u001b[32mSaved FeatureData[Taxonomy] to: Single-R1/taxonomy-single-12-17-trim.qza\u001b[0m\n"
     ]
    }
   ],
   "source": [
    "! qiime feature-classifier classify-consensus-blast \\\n",
    "--i-query single-trimmed-dada2.qza \\\n",
    "--i-reference-reads Taxonomy/sh_refs_qiime_ver7_99_01.12.2017.qza \\\n",
    "--i-reference-taxonomy Taxonomy/sh_taxonomy_qiime_ver7_99_01.12.2017.qza \\\n",
    "--p-perc-identity 0.945 \\\n",
    "--o-classification Single-R1/taxonomy-single-12-17-trim.qza"
   ]
  },
  {
   "cell_type": "code",
   "execution_count": 58,
   "metadata": {},
   "outputs": [
    {
     "name": "stdout",
     "output_type": "stream",
     "text": [
      "\u001b[32mSaved FeatureData[Taxonomy] to: Single-R1/taxonomy-class-single-12-17-trim.qza\u001b[0m\n"
     ]
    }
   ],
   "source": [
    "! qiime feature-classifier classify-consensus-blast \\\n",
    "--i-query single-trimmed-dada2.qza \\\n",
    "--i-reference-reads Taxonomy/sh_refs_qiime_ver7_99_01.12.2017.qza \\\n",
    "--i-reference-taxonomy Taxonomy/sh_taxonomy_qiime_ver7_99_01.12.2017.qza \\\n",
    "--p-perc-identity 0.80 \\\n",
    "--o-classification Single-R1/taxonomy-class-single-12-17-trim.qza"
   ]
  },
  {
   "cell_type": "markdown",
   "metadata": {},
   "source": [
    "#as per East China Sea paper 2018. assign seq to K_fungi "
   ]
  },
  {
   "cell_type": "code",
   "execution_count": 62,
   "metadata": {},
   "outputs": [
    {
     "name": "stdout",
     "output_type": "stream",
     "text": [
      "\u001b[32mSaved FeatureData[Taxonomy] to: Single-R1/taxonomy-kf-single-12-17-trim.qza\u001b[0m\n"
     ]
    }
   ],
   "source": [
    "! qiime feature-classifier classify-consensus-blast \\\n",
    "--i-query single-trimmed-dada2.qza \\\n",
    "--i-reference-reads Taxonomy/sh_refs_qiime_ver7_99_01.12.2017.qza \\\n",
    "--i-reference-taxonomy Taxonomy/sh_taxonomy_qiime_ver7_99_01.12.2017.qza \\\n",
    "--p-perc-identity 0.70 \\\n",
    "--o-classification Single-R1/taxonomy-kf-single-12-17-trim.qza"
   ]
  },
  {
   "cell_type": "markdown",
   "metadata": {},
   "source": [
    "#use developer version of taxonomy and sequence files for forward reads with dada2 without itsxpress trim\n",
    "use next command to scrub lowercase characters from the sequences to avoid errors downstream"
   ]
  },
  {
   "cell_type": "code",
   "execution_count": 52,
   "metadata": {},
   "outputs": [],
   "source": [
    "! awk '/^>/ {print($0)}; /^[^>]/ {print(toupper($0))}' developer/sh_refs_qiime_ver7_99_01.12.2017_dev.fasta > developer/sh_refs_qiime_ver7_99_01.12.2017_dev_uppercase.fasta"
   ]
  },
  {
   "cell_type": "code",
   "execution_count": 53,
   "metadata": {},
   "outputs": [
    {
     "name": "stdout",
     "output_type": "stream",
     "text": [
      "\u001b[32mImported developer/sh_refs_qiime_ver7_99_01.12.2017_dev_uppercase.fasta as DNASequencesDirectoryFormat to unite-ver7-99-seqs-01.12.2017.qza\u001b[0m\n"
     ]
    }
   ],
   "source": [
    "! qiime tools import \\\n",
    " --type FeatureData[Sequence] \\\n",
    " --input-path developer/sh_refs_qiime_ver7_99_01.12.2017_dev_uppercase.fasta \\\n",
    " --output-path unite-ver7-99-seqs-01.12.2017.qza"
   ]
  },
  {
   "cell_type": "code",
   "execution_count": 54,
   "metadata": {},
   "outputs": [
    {
     "name": "stdout",
     "output_type": "stream",
     "text": [
      "\u001b[32mImported developer/sh_taxonomy_qiime_ver7_99_01.12.2017_dev.txt as HeaderlessTSVTaxonomyFormat to unite-ver7-99-tax-01.12.2017.qza\u001b[0m\n"
     ]
    }
   ],
   "source": [
    "! qiime tools import \\\n",
    " --type FeatureData[Taxonomy] \\\n",
    " --input-path developer/sh_taxonomy_qiime_ver7_99_01.12.2017_dev.txt \\\n",
    " --output-path unite-ver7-99-tax-01.12.2017.qza \\\n",
    " --input-format HeaderlessTSVTaxonomyFormat"
   ]
  },
  {
   "cell_type": "code",
   "execution_count": null,
   "metadata": {},
   "outputs": [],
   "source": [
    "! qiime feature-classifier fit-classifier-naive-bayes \\\n",
    " --i-reference-reads unite-ver7-99-seqs-01.12.2017.qza \\\n",
    " --i-reference-taxonomy unite-ver7-99-tax-01.12.2017.qza \\\n",
    " --o-classifier unite-ver7-99-classifier-01.12.2017.qza"
   ]
  },
  {
   "cell_type": "code",
   "execution_count": 57,
   "metadata": {},
   "outputs": [
    {
     "name": "stdout",
     "output_type": "stream",
     "text": [
      "\u001b[32mSaved FeatureData[Taxonomy] to: nonitsxdada2/Single/taxonomy-single-dada2.qza\u001b[0m\n"
     ]
    }
   ],
   "source": [
    "! qiime feature-classifier classify-sklearn \\\n",
    "  --i-classifier Taxonomy/unite-ver7-99-classifier-01.12.2017.qza \\\n",
    "  --i-reads nonitsxdada2/Single/reps-single-dada2.qza \\\n",
    "  --o-classification nonitsxdada2/Single/taxonomy-single-sklearn.qza"
   ]
  },
  {
   "cell_type": "code",
   "execution_count": null,
   "metadata": {},
   "outputs": [],
   "source": [
    "! qiime feature-classifier classify-consensus-blast \\\n",
    "--i-query single-dada2.qza \\\n",
    "--i-reference-reads Taxonomy/sh_refs_qiime_ver7_99_01.12.2017.qza \\\n",
    "--i-reference-taxonomy Taxonomy/sh_taxonomy_qiime_ver7_99_01.12.2017.qza \\\n",
    "--p-perc-identity 0.945 \\\n",
    "--o-classification Single-R1/taxonomy-single-12-17-trim.qza"
   ]
  },
  {
   "cell_type": "code",
   "execution_count": 57,
   "metadata": {},
   "outputs": [
    {
     "name": "stdout",
     "output_type": "stream",
     "text": [
      "\u001b[32mSaved Visualization to: Single-R1/taxa-bar-plots.qzv\u001b[0m\n"
     ]
    }
   ],
   "source": [
    "! qiime taxa barplot \\\n",
    "--i-table table-single-trimmed-dada2.qza \\\n",
    "--i-taxonomy Single-R1/taxonomy-single-12-17-trim.qza \\\n",
    "--m-metadata-file sample-metadata.tsv \\\n",
    "--o-visualization Single-R1/taxa-bar-plots.qzv"
   ]
  },
  {
   "cell_type": "code",
   "execution_count": 59,
   "metadata": {},
   "outputs": [
    {
     "name": "stdout",
     "output_type": "stream",
     "text": [
      "\u001b[32mSaved Visualization to: Single-R1/taxa-bar-plots-class.qzv\u001b[0m\n"
     ]
    }
   ],
   "source": [
    "! qiime taxa barplot \\\n",
    "--i-table table-single-trimmed-dada2.qza \\\n",
    "--i-taxonomy Single-R1/taxonomy-class-single-12-17-trim.qza \\\n",
    "--m-metadata-file sample-metadata.tsv \\\n",
    "--o-visualization Single-R1/taxa-bar-plots-class.qzv"
   ]
  },
  {
   "cell_type": "code",
   "execution_count": 2,
   "metadata": {},
   "outputs": [
    {
     "name": "stdout",
     "output_type": "stream",
     "text": [
      "\u001b[32mSaved Visualization to: Single-R1/taxa-bar-plots-kf.qzv\u001b[0m\n"
     ]
    }
   ],
   "source": [
    "! qiime taxa barplot \\\n",
    "--i-table table-single-trimmed-dada2.qza \\\n",
    "--i-taxonomy Single-R1/taxonomy-kf-single-12-17-trim.qza \\\n",
    "--m-metadata-file sample-metadata.tsv \\\n",
    "--o-visualization Single-R1/taxa-bar-plots-kf.qzv"
   ]
  },
  {
   "cell_type": "code",
   "execution_count": 40,
   "metadata": {
    "collapsed": true,
    "jupyter": {
     "outputs_hidden": true
    }
   },
   "outputs": [
    {
     "name": "stdout",
     "output_type": "stream",
     "text": [
      "Usage: qiime itsxpress trim-single [OPTIONS]\n",
      "\n",
      "  ITSxpress trimSingle is used for qza types with SquencesWithQuality or\n",
      "  JoinedSequencesWithQuality. This means the qza must be in the\n",
      "  SingleLanePerSampleSingleEndFastqDirFmt, and only contain one fastq file.\n",
      "\n",
      "  The taxa list and variable for it:\n",
      "\n",
      "  A = Alveolata\n",
      "\n",
      "  B = Bryophyta\n",
      "\n",
      "  C = Bacillariophyta\n",
      "\n",
      "  D = Amoebozoa\n",
      "\n",
      "  E = Euglenozoa\n",
      "\n",
      "  F = Fungi\n",
      "\n",
      "  G = Chlorophyta (green algae)\n",
      "\n",
      "  H = Rhodophyta (red algae)\n",
      "\n",
      "  I = Phaeophyceae (brown algae)\n",
      "\n",
      "  L = Marchantiophyta (liverworts)\n",
      "\n",
      "  M = Metazoa\n",
      "\n",
      "  O = Oomycota\n",
      "\n",
      "  P = Haptophyceae (prymnesiophytes)\n",
      "\n",
      "  Q = Raphidophyceae\n",
      "\n",
      "  R = Rhizaria\n",
      "\n",
      "  S = Synurophyceae\n",
      "\n",
      "  T = Tracheophyta (higher plants)\n",
      "\n",
      "  U = Eustigmatophyceae\n",
      "\n",
      "  ALL = All\n",
      "\n",
      "Options:\n",
      "  --i-per-sample-sequences ARTIFACT PATH SampleData[SequencesWithQuality]\n",
      "                                  The artifact that contains the sequence\n",
      "                                  file(s). Either Joined Paired or just a\n",
      "                                  single fastq. One file sequences in the qza\n",
      "                                  data folder.  [required]\n",
      "  --p-region [ALL|ITS1|ITS2]      \n",
      "                                  The regions ITS2, ITS1, and ALL that can be\n",
      "                                  selected from.  [required]\n",
      "  --p-taxa [G|Q|B|D|M|U|F|H|I|ALL|A|L|P|S|E|O|R|T|C]\n",
      "                                  \n",
      "                                  The selected taxonomic group sequenced that\n",
      "                                  can be selected from.  [default: F]\n",
      "  --p-threads INTEGER             \n",
      "                                  The number of processor threads to use in\n",
      "                                  the run.  [default: 1]\n",
      "  --p-cluster-id FLOAT            \n",
      "                                  The percent identity for clustering reads,\n",
      "                                  set to 1 for exact dereplication.  [default:\n",
      "                                  0.995]\n",
      "  --o-trimmed ARTIFACT PATH SampleData[SequencesWithQuality]\n",
      "                                  The trimmed sequences from ITSxpress.\n",
      "                                  [required if not passing --output-dir]\n",
      "  --output-dir DIRECTORY          Output unspecified results to a directory\n",
      "  --cmd-config FILE               Use config file for command options\n",
      "  --verbose                       Display verbose output to stdout and/or\n",
      "                                  stderr during execution of this action.\n",
      "                                  [default: False]\n",
      "  --quiet                         Silence output if execution is successful\n",
      "                                  (silence is golden).  [default: False]\n",
      "  --citations                     Show citations and exit.\n",
      "  --help                          Show this message and exit.\n"
     ]
    }
   ],
   "source": [
    "! qiime itsxpress trim-single --help"
   ]
  },
  {
   "cell_type": "code",
   "execution_count": 58,
   "metadata": {},
   "outputs": [
    {
     "name": "stdout",
     "output_type": "stream",
     "text": [
      "\u001b[32mSaved Visualization to: taxa-bar-plots.qzv\u001b[0m\n"
     ]
    }
   ],
   "source": [
    "! qiime taxa barplot \\\n",
    "--i-table nonitsxdada2/Single/table-single-dada2.qza \\\n",
    "--i-taxonomy nonitsxdada2/Single/taxonomy-single-dada2.qza \\\n",
    "--m-metadata-file sample-metadata.tsv \\\n",
    "--o-visualization taxa-bar-plot-sklearn.qzv"
   ]
  },
  {
   "cell_type": "code",
   "execution_count": 59,
   "metadata": {
    "collapsed": true,
    "jupyter": {
     "outputs_hidden": true
    }
   },
   "outputs": [
    {
     "data": {
      "text/html": [
       "<div><img onload=\"(function(div, url){\n",
       "if (typeof require !== 'undefined') {\n",
       "    var baseURL = require.toUrl('').split('/').slice(0, -2).join('/');\n",
       "} else {\n",
       "    var baseURL = JSON.parse(\n",
       "        document.getElementById('jupyter-config-data').innerHTML\n",
       "    ).baseUrl.slice(0, -1);\n",
       "}\n",
       "url = baseURL + url;\n",
       "fetch(url).then(function(res) {\n",
       "    if (res.status === 404) {\n",
       "        div.innerHTML = 'Install QIIME 2 Jupyter extension with:<br />' +\n",
       "                        '<code>jupyter serverextension enable --py qiime2' +\n",
       "                        ' --sys-prefix</code><br />then restart your server.' +\n",
       "                        '<br /><br />(Interactive output not available on ' +\n",
       "                        'static notebook viewer services like nbviewer.)';\n",
       "    } else if (res.status === 409) {\n",
       "        div.innerHTML = 'Visualization no longer in scope. Re-run this cell' +\n",
       "                        ' to see the visualization.';\n",
       "    } else if (res.ok) {\n",
       "        url = res.url;\n",
       "        div.innerHTML = '<iframe src=\\'' + url + '\\' style=\\'' +\n",
       "                        'width: 100%; height: 700px; border: 0;\\'>' +\n",
       "                        '</iframe><hr />Open in a: <a href=\\'' + url + '\\'' +\n",
       "                        ' target=\\'_blank\\'>new window</a>'\n",
       "    } else {\n",
       "        div.innerHTML = 'Something has gone wrong. Check notebook server for' +\n",
       "                        ' errors.';\n",
       "    }\n",
       "});\n",
       "})(this.parentElement, '/qiime2/redirect?location=/tmp/qiime2-archive-rzhgjr07')\" src=\"data:image/gif;base64,R0lGODlhAQABAIAAAP///wAAACH5BAEAAAAALAAAAAABAAEAAAICRAEAOw==\" /></div>"
      ],
      "text/plain": [
       "<visualization: Visualization uuid: 6e9d5e4d-2d16-42d7-9208-03d6ed595b04>"
      ]
     },
     "execution_count": 59,
     "metadata": {},
     "output_type": "execute_result"
    }
   ],
   "source": [
    "Visualization.load(\"taxa-bar-plot-sklearn.qzv\")"
   ]
  },
  {
   "cell_type": "code",
   "execution_count": 60,
   "metadata": {},
   "outputs": [
    {
     "name": "stdout",
     "output_type": "stream",
     "text": [
      "\u001b[32mSaved FeatureData[Taxonomy] to: nonitsxdada2/Single/taxonomy-single-blast.qza\u001b[0m\n"
     ]
    }
   ],
   "source": [
    "! qiime feature-classifier classify-consensus-blast \\\n",
    "--i-query nonitsxdada2/Single/reps-single-dada2.qza \\\n",
    "--i-reference-reads Taxonomy/unite-ver7-99-seqs-01.12.2017.qza \\\n",
    "--i-reference-taxonomy Taxonomy/unite-ver7-99-tax-01.12.2017.qza\\\n",
    "--p-perc-identity 0.945 \\\n",
    "--o-classification nonitsxdada2/Single/taxonomy-single-blast.qza"
   ]
  },
  {
   "cell_type": "code",
   "execution_count": 61,
   "metadata": {},
   "outputs": [
    {
     "name": "stdout",
     "output_type": "stream",
     "text": [
      "\u001b[32mSaved Visualization to: nonitsxdada2/Single/taxa-bar-plot-blast.qzv\u001b[0m\n"
     ]
    }
   ],
   "source": [
    "! qiime taxa barplot \\\n",
    "--i-table nonitsxdada2/Single/table-single-dada2.qza \\\n",
    "--i-taxonomy nonitsxdada2/Single/taxonomy-single-blast.qza \\\n",
    "--m-metadata-file sample-metadata.tsv \\\n",
    "--o-visualization nonitsxdada2/Single/taxa-bar-plot-blast.qzv"
   ]
  },
  {
   "cell_type": "code",
   "execution_count": 62,
   "metadata": {},
   "outputs": [
    {
     "data": {
      "text/html": [
       "<div><img onload=\"(function(div, url){\n",
       "if (typeof require !== 'undefined') {\n",
       "    var baseURL = require.toUrl('').split('/').slice(0, -2).join('/');\n",
       "} else {\n",
       "    var baseURL = JSON.parse(\n",
       "        document.getElementById('jupyter-config-data').innerHTML\n",
       "    ).baseUrl.slice(0, -1);\n",
       "}\n",
       "url = baseURL + url;\n",
       "fetch(url).then(function(res) {\n",
       "    if (res.status === 404) {\n",
       "        div.innerHTML = 'Install QIIME 2 Jupyter extension with:<br />' +\n",
       "                        '<code>jupyter serverextension enable --py qiime2' +\n",
       "                        ' --sys-prefix</code><br />then restart your server.' +\n",
       "                        '<br /><br />(Interactive output not available on ' +\n",
       "                        'static notebook viewer services like nbviewer.)';\n",
       "    } else if (res.status === 409) {\n",
       "        div.innerHTML = 'Visualization no longer in scope. Re-run this cell' +\n",
       "                        ' to see the visualization.';\n",
       "    } else if (res.ok) {\n",
       "        url = res.url;\n",
       "        div.innerHTML = '<iframe src=\\'' + url + '\\' style=\\'' +\n",
       "                        'width: 100%; height: 700px; border: 0;\\'>' +\n",
       "                        '</iframe><hr />Open in a: <a href=\\'' + url + '\\'' +\n",
       "                        ' target=\\'_blank\\'>new window</a>'\n",
       "    } else {\n",
       "        div.innerHTML = 'Something has gone wrong. Check notebook server for' +\n",
       "                        ' errors.';\n",
       "    }\n",
       "});\n",
       "})(this.parentElement, '/qiime2/redirect?location=/tmp/qiime2-archive-gftctumi')\" src=\"data:image/gif;base64,R0lGODlhAQABAIAAAP///wAAACH5BAEAAAAALAAAAAABAAEAAAICRAEAOw==\" /></div>"
      ],
      "text/plain": [
       "<visualization: Visualization uuid: 90982425-7fc7-4004-98d1-1eaab3c7de3e>"
      ]
     },
     "execution_count": 62,
     "metadata": {},
     "output_type": "execute_result"
    }
   ],
   "source": [
    "Visualization.load(\"nonitsxdada2/Single/taxa-bar-plot-blast.qzv\")"
   ]
  },
  {
   "cell_type": "code",
   "execution_count": 2,
   "metadata": {},
   "outputs": [
    {
     "name": "stdout",
     "output_type": "stream",
     "text": [
      "\u001b[32mSaved FeatureData[AlignedSequence] to: nonitsxdada2/Single/aligned-rep-seqs.qza\u001b[0m\n",
      "\u001b[32mSaved FeatureData[AlignedSequence] to: nonitsxdada2/Single/masked-aligned-rep-seqs.qza\u001b[0m\n",
      "\u001b[32mSaved Phylogeny[Unrooted] to: nonitsxdada2/Single/unrooted-tree.qza\u001b[0m\n",
      "\u001b[32mSaved Phylogeny[Rooted] to: nonitsxdada2/Single/rooted-tree.qza\u001b[0m\n"
     ]
    }
   ],
   "source": [
    "! qiime phylogeny align-to-tree-mafft-fasttree \\\n",
    "--i-sequences nonitsxdada2/Single/reps-single-dada2.qza \\\n",
    "--p-n-threads 3 \\\n",
    "--o-alignment nonitsxdada2/Single/aligned-rep-seqs.qza \\\n",
    "--o-masked-alignment nonitsxdada2/Single/masked-aligned-rep-seqs.qza \\\n",
    "--o-tree nonitsxdada2/Single/unrooted-tree.qza \\\n",
    "--o-rooted-tree nonitsxdada2/Single/rooted-tree.qza\n"
   ]
  },
  {
   "cell_type": "code",
   "execution_count": 36,
   "metadata": {},
   "outputs": [
    {
     "name": "stdout",
     "output_type": "stream",
     "text": [
      "\u001b[32mExported nonitsxdada2/Single/table-single-dada2.qza as BIOMV210DirFmt to directory nonitsxdada2/Single/exported\u001b[0m\n"
     ]
    }
   ],
   "source": [
    "! qiime tools export --input-path nonitsxdada2/Single/table-single-dada2.qza --output-path nonitsxdada2/Single/exported"
   ]
  },
  {
   "cell_type": "code",
   "execution_count": 37,
   "metadata": {
    "scrolled": true
   },
   "outputs": [
    {
     "name": "stdout",
     "output_type": "stream",
     "text": [
      "\u001b[32mExported nonitsxdada2/Single/taxonomy-single-blast.qza as TSVTaxonomyDirectoryFormat to directory nonitsxdada2/Single/exported\u001b[0m\n"
     ]
    }
   ],
   "source": [
    "! qiime tools export --input-path nonitsxdada2/Single/taxonomy-single-blast.qza --output-path nonitsxdada2/Single/exported"
   ]
  },
  {
   "cell_type": "code",
   "execution_count": 70,
   "metadata": {},
   "outputs": [],
   "source": [
    "! cp nonitsxdada2/Single/exported/taxonomy.tsv nonitsxdada2/Single/exported/biom-taxonomy.tsv"
   ]
  },
  {
   "cell_type": "markdown",
   "metadata": {},
   "source": [
    "#open the taxonomy.tsv file and manually change the headings"
   ]
  },
  {
   "cell_type": "code",
   "execution_count": 101,
   "metadata": {},
   "outputs": [
    {
     "name": "stdout",
     "output_type": "stream",
     "text": [
      "/bin/sh: 1: biom-format: not found\n"
     ]
    }
   ],
   "source": [
    "! biom add-metadata -i nonitsxdada2/Single/exported/feature-table.biom -o nonitsxdada2/Single/exported/table-with-taxonomy.biom --observation-metadata-fp nonitsxdada2/Single/exported/biom-taxonomy.tsv --observation-header OTUID,taxonomy,confidence --sc-separated taxonomy"
   ]
  },
  {
   "cell_type": "code",
   "execution_count": 104,
   "metadata": {},
   "outputs": [],
   "source": [
    "! biom convert -i nonitsxdada2/Single/exported/table-with-taxonomy.biom -o nonitsxdada2/Single/exported/table-with-taxonomy.tsv --to-tsv"
   ]
  },
  {
   "cell_type": "code",
   "execution_count": 102,
   "metadata": {},
   "outputs": [
    {
     "name": "stdout",
     "output_type": "stream",
     "text": [
      "# Constructed from biom file\n",
      "#OTU ID\tA11\tA12\tA61\tA62\tA63\n",
      "626174f1a6e8829520900864d1618825\t0.0\t0.0\t0.0\t0.0\t0.0\n",
      "73a84c73614b3b98a96f04560be22025\t0.0\t0.0\t10223.0\t0.0\t0.0\n",
      "7ba184e0296a713b63ca3daa24400317\t83.0\t214.0\t18.0\t3814.0\t7.0\n",
      "8d75ba75e5a4084a6335dde778f5f72e\t0.0\t0.0\t0.0\t0.0\t0.0\n",
      "e25bf6f5477d41493bdb8e1451d8fcc3\t0.0\t136.0\t0.0\t0.0\t0.0\n"
     ]
    }
   ],
   "source": [
    "! biom head -i nonitsxdada2/Single/exported/table-with-taxonomy.biom"
   ]
  },
  {
   "cell_type": "code",
   "execution_count": 26,
   "metadata": {
    "collapsed": true,
    "jupyter": {
     "outputs_hidden": true
    }
   },
   "outputs": [
    {
     "name": "stdout",
     "output_type": "stream",
     "text": [
      "\u001b[33mQIIME is caching your current deployment for improved performance. This may take a few moments and should only happen once per deployment.\u001b[0m\n",
      "\u001b[32mSaved FeatureTable[Frequency] to: nonitsxdada2/Single/final/core-metrics-results/rarefied_table.qza\u001b[0m\n",
      "\u001b[32mSaved SampleData[AlphaDiversity] % Properties(['phylogenetic']) to: nonitsxdada2/Single/final/core-metrics-results/faith_pd_vector.qza\u001b[0m\n",
      "\u001b[32mSaved SampleData[AlphaDiversity] to: nonitsxdada2/Single/final/core-metrics-results/observed_otus_vector.qza\u001b[0m\n",
      "\u001b[32mSaved SampleData[AlphaDiversity] to: nonitsxdada2/Single/final/core-metrics-results/shannon_vector.qza\u001b[0m\n",
      "\u001b[32mSaved SampleData[AlphaDiversity] to: nonitsxdada2/Single/final/core-metrics-results/evenness_vector.qza\u001b[0m\n",
      "\u001b[32mSaved DistanceMatrix % Properties(['phylogenetic']) to: nonitsxdada2/Single/final/core-metrics-results/unweighted_unifrac_distance_matrix.qza\u001b[0m\n",
      "\u001b[32mSaved DistanceMatrix % Properties(['phylogenetic']) to: nonitsxdada2/Single/final/core-metrics-results/weighted_unifrac_distance_matrix.qza\u001b[0m\n",
      "\u001b[32mSaved DistanceMatrix to: nonitsxdada2/Single/final/core-metrics-results/jaccard_distance_matrix.qza\u001b[0m\n",
      "\u001b[32mSaved DistanceMatrix to: nonitsxdada2/Single/final/core-metrics-results/bray_curtis_distance_matrix.qza\u001b[0m\n",
      "\u001b[32mSaved PCoAResults to: nonitsxdada2/Single/final/core-metrics-results/unweighted_unifrac_pcoa_results.qza\u001b[0m\n",
      "\u001b[32mSaved PCoAResults to: nonitsxdada2/Single/final/core-metrics-results/weighted_unifrac_pcoa_results.qza\u001b[0m\n",
      "\u001b[32mSaved PCoAResults to: nonitsxdada2/Single/final/core-metrics-results/jaccard_pcoa_results.qza\u001b[0m\n",
      "\u001b[32mSaved PCoAResults to: nonitsxdada2/Single/final/core-metrics-results/bray_curtis_pcoa_results.qza\u001b[0m\n",
      "\u001b[32mSaved Visualization to: nonitsxdada2/Single/final/core-metrics-results/unweighted_unifrac_emperor.qzv\u001b[0m\n",
      "\u001b[32mSaved Visualization to: nonitsxdada2/Single/final/core-metrics-results/weighted_unifrac_emperor.qzv\u001b[0m\n",
      "\u001b[32mSaved Visualization to: nonitsxdada2/Single/final/core-metrics-results/jaccard_emperor.qzv\u001b[0m\n",
      "\u001b[32mSaved Visualization to: nonitsxdada2/Single/final/core-metrics-results/bray_curtis_emperor.qzv\u001b[0m\n"
     ]
    }
   ],
   "source": [
    "! qiime diversity core-metrics-phylogenetic \\\n",
    "--i-phylogeny nonitsxdada2/Single/rooted-tree.qza \\\n",
    "--i-table nonitsxdada2/Single/table-single-dada2.qza \\\n",
    "--p-sampling-depth 15700 \\\n",
    "--m-metadata-file sample-metadata.tsv \\\n",
    "--output-dir nonitsxdada2/Single/final/core-metrics-results"
   ]
  },
  {
   "cell_type": "code",
   "execution_count": 30,
   "metadata": {
    "collapsed": true,
    "jupyter": {
     "outputs_hidden": true
    }
   },
   "outputs": [
    {
     "ename": "NameError",
     "evalue": "name 'Visualization' is not defined",
     "output_type": "error",
     "traceback": [
      "\u001b[0;31m---------------------------------------------------------------------------\u001b[0m",
      "\u001b[0;31mNameError\u001b[0m                                 Traceback (most recent call last)",
      "\u001b[0;32m<ipython-input-30-144aaaa4b70a>\u001b[0m in \u001b[0;36m<module>\u001b[0;34m\u001b[0m\n\u001b[0;32m----> 1\u001b[0;31m \u001b[0mVisualization\u001b[0m\u001b[0;34m.\u001b[0m\u001b[0mload\u001b[0m\u001b[0;34m(\u001b[0m\u001b[0;34m\"nonitsxdada2/Single/final/core-metrics-results/bray_curtis_emperor.qzv\"\u001b[0m\u001b[0;34m)\u001b[0m\u001b[0;34m\u001b[0m\u001b[0m\n\u001b[0m",
      "\u001b[0;31mNameError\u001b[0m: name 'Visualization' is not defined"
     ]
    }
   ],
   "source": [
    "from qiime2.plugins.emperor.visualizers import plot\n",
    "bce_results=Visualization.load(\"nonitsxdada2/Single/final/core-metrics-results/bray_curtis_emperor.qzv\")\n",
    "bce= emperor.visualizers.plot"
   ]
  }
 ],
 "metadata": {
  "kernelspec": {
   "display_name": "Python 3 (ipykernel)",
   "language": "python",
   "name": "python3"
  },
  "language_info": {
   "codemirror_mode": {
    "name": "ipython",
    "version": 3
   },
   "file_extension": ".py",
   "mimetype": "text/x-python",
   "name": "python",
   "nbconvert_exporter": "python",
   "pygments_lexer": "ipython3",
   "version": "3.8.13"
  }
 },
 "nbformat": 4,
 "nbformat_minor": 4
}
